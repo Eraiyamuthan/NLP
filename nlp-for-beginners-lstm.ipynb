{
 "cells": [
  {
   "cell_type": "code",
   "execution_count": 1,
   "metadata": {
    "execution": {
     "iopub.execute_input": "2021-07-18T08:27:04.812333Z",
     "iopub.status.busy": "2021-07-18T08:27:04.811774Z",
     "iopub.status.idle": "2021-07-18T08:27:13.30009Z",
     "shell.execute_reply": "2021-07-18T08:27:13.299003Z",
     "shell.execute_reply.started": "2021-07-18T08:27:04.812237Z"
    }
   },
   "outputs": [],
   "source": [
    "#Importing Libraries\n",
    "\n",
    "import pandas as pd\n",
    "import numpy as np\n",
    "import re \n",
    "import nltk \n",
    "from sklearn.pipeline import Pipeline\n",
    "from sklearn.feature_extraction.text import CountVectorizer, TfidfVectorizer\n",
    "from sklearn.linear_model import LogisticRegression\n",
    "from sklearn.model_selection import train_test_split, cross_val_score, KFold\n",
    "\n",
    "from nltk.corpus import stopwords\n",
    "from tqdm import tqdm\n",
    "from nltk.stem import WordNetLemmatizer\n",
    "from wordcloud import WordCloud\n",
    "import matplotlib.pyplot as plt\n",
    "import numpy as np\n",
    "from PIL import Image\n",
    "from sklearn.feature_extraction.text import CountVectorizer\n",
    "from sklearn import preprocessing\n",
    "from sklearn.preprocessing import LabelEncoder\n",
    "import warnings\n",
    "import keras\n",
    "from keras.layers import Dense,LSTM,Embedding,Input,GlobalMaxPool1D\n",
    "from keras.models import Sequential\n",
    "from sklearn.naive_bayes import CategoricalNB\n",
    "from sklearn.tree import DecisionTreeClassifier\n",
    "from sklearn.ensemble import RandomForestClassifier\n",
    "from sklearn.linear_model import LogisticRegression\n",
    "from sklearn.metrics import classification_report\n",
    "from keras.callbacks import EarlyStopping,ReduceLROnPlateau\n",
    "from keras.preprocessing.text import Tokenizer\n",
    "from keras.preprocessing.sequence import pad_sequences\n",
    "\n",
    "\n",
    "from io import StringIO\n",
    "from sklearn.feature_selection import chi2\n",
    "from IPython.display import display\n",
    "from sklearn.feature_extraction.text import TfidfTransformer\n",
    "from sklearn.model_selection import cross_val_score\n",
    "from sklearn.metrics import confusion_matrix\n",
    "from sklearn import metrics\n",
    "\n",
    "from sklearn.decomposition import PCA, TruncatedSVD\n",
    "from sklearn.metrics import classification_report\n",
    "import matplotlib.pyplot as plt\n",
    "%matplotlib inline\n",
    "import seaborn as sns\n",
    "plt.style.use('ggplot')\n",
    "import matplotlib.patches as mpatches"
   ]
  },
  {
   "cell_type": "code",
   "execution_count": 2,
   "metadata": {
    "execution": {
     "iopub.execute_input": "2021-07-18T08:27:13.302189Z",
     "iopub.status.busy": "2021-07-18T08:27:13.301881Z",
     "iopub.status.idle": "2021-07-18T08:27:13.793479Z",
     "shell.execute_reply": "2021-07-18T08:27:13.792335Z",
     "shell.execute_reply.started": "2021-07-18T08:27:13.302157Z"
    }
   },
   "outputs": [
    {
     "data": {
      "text/html": [
       "<div>\n",
       "<style scoped>\n",
       "    .dataframe tbody tr th:only-of-type {\n",
       "        vertical-align: middle;\n",
       "    }\n",
       "\n",
       "    .dataframe tbody tr th {\n",
       "        vertical-align: top;\n",
       "    }\n",
       "\n",
       "    .dataframe thead th {\n",
       "        text-align: right;\n",
       "    }\n",
       "</style>\n",
       "<table border=\"1\" class=\"dataframe\">\n",
       "  <thead>\n",
       "    <tr style=\"text-align: right;\">\n",
       "      <th></th>\n",
       "      <th>UserName</th>\n",
       "      <th>ScreenName</th>\n",
       "      <th>Location</th>\n",
       "      <th>TweetAt</th>\n",
       "      <th>OriginalTweet</th>\n",
       "      <th>Sentiment</th>\n",
       "    </tr>\n",
       "  </thead>\n",
       "  <tbody>\n",
       "    <tr>\n",
       "      <th>0</th>\n",
       "      <td>3799</td>\n",
       "      <td>48751</td>\n",
       "      <td>London</td>\n",
       "      <td>16-03-2020</td>\n",
       "      <td>@MeNyrbie @Phil_Gahan @Chrisitv https://t.co/i...</td>\n",
       "      <td>Neutral</td>\n",
       "    </tr>\n",
       "    <tr>\n",
       "      <th>1</th>\n",
       "      <td>3800</td>\n",
       "      <td>48752</td>\n",
       "      <td>UK</td>\n",
       "      <td>16-03-2020</td>\n",
       "      <td>advice Talk to your neighbours family to excha...</td>\n",
       "      <td>Positive</td>\n",
       "    </tr>\n",
       "    <tr>\n",
       "      <th>2</th>\n",
       "      <td>3801</td>\n",
       "      <td>48753</td>\n",
       "      <td>Vagabonds</td>\n",
       "      <td>16-03-2020</td>\n",
       "      <td>Coronavirus Australia: Woolworths to give elde...</td>\n",
       "      <td>Positive</td>\n",
       "    </tr>\n",
       "    <tr>\n",
       "      <th>3</th>\n",
       "      <td>3802</td>\n",
       "      <td>48754</td>\n",
       "      <td>NaN</td>\n",
       "      <td>16-03-2020</td>\n",
       "      <td>My food stock is not the only one which is emp...</td>\n",
       "      <td>Positive</td>\n",
       "    </tr>\n",
       "    <tr>\n",
       "      <th>4</th>\n",
       "      <td>3803</td>\n",
       "      <td>48755</td>\n",
       "      <td>NaN</td>\n",
       "      <td>16-03-2020</td>\n",
       "      <td>Me, ready to go at supermarket during the #COV...</td>\n",
       "      <td>Extremely Negative</td>\n",
       "    </tr>\n",
       "  </tbody>\n",
       "</table>\n",
       "</div>"
      ],
      "text/plain": [
       "   UserName  ScreenName   Location     TweetAt  \\\n",
       "0      3799       48751     London  16-03-2020   \n",
       "1      3800       48752         UK  16-03-2020   \n",
       "2      3801       48753  Vagabonds  16-03-2020   \n",
       "3      3802       48754        NaN  16-03-2020   \n",
       "4      3803       48755        NaN  16-03-2020   \n",
       "\n",
       "                                       OriginalTweet           Sentiment  \n",
       "0  @MeNyrbie @Phil_Gahan @Chrisitv https://t.co/i...             Neutral  \n",
       "1  advice Talk to your neighbours family to excha...            Positive  \n",
       "2  Coronavirus Australia: Woolworths to give elde...            Positive  \n",
       "3  My food stock is not the only one which is emp...            Positive  \n",
       "4  Me, ready to go at supermarket during the #COV...  Extremely Negative  "
      ]
     },
     "execution_count": 2,
     "metadata": {},
     "output_type": "execute_result"
    }
   ],
   "source": [
    "#Importing Dataset\n",
    "\n",
    "train = pd.read_csv(\"Corona_NLP_train.csv\", encoding='latin1')\n",
    "test = pd.read_csv(\"Corona_NLP_test.csv\", encoding='latin1')\n",
    "train.head()"
   ]
  },
  {
   "cell_type": "code",
   "execution_count": 3,
   "metadata": {
    "execution": {
     "iopub.execute_input": "2021-07-18T08:27:13.795455Z",
     "iopub.status.busy": "2021-07-18T08:27:13.795162Z",
     "iopub.status.idle": "2021-07-18T08:27:13.836721Z",
     "shell.execute_reply": "2021-07-18T08:27:13.835541Z",
     "shell.execute_reply.started": "2021-07-18T08:27:13.795426Z"
    }
   },
   "outputs": [
    {
     "name": "stdout",
     "output_type": "stream",
     "text": [
      "<class 'pandas.core.frame.DataFrame'>\n",
      "RangeIndex: 41157 entries, 0 to 41156\n",
      "Data columns (total 6 columns):\n",
      " #   Column         Non-Null Count  Dtype \n",
      "---  ------         --------------  ----- \n",
      " 0   UserName       41157 non-null  int64 \n",
      " 1   ScreenName     41157 non-null  int64 \n",
      " 2   Location       32567 non-null  object\n",
      " 3   TweetAt        41157 non-null  object\n",
      " 4   OriginalTweet  41157 non-null  object\n",
      " 5   Sentiment      41157 non-null  object\n",
      "dtypes: int64(2), object(4)\n",
      "memory usage: 1.9+ MB\n"
     ]
    }
   ],
   "source": [
    "train.info()"
   ]
  },
  {
   "cell_type": "markdown",
   "metadata": {},
   "source": [
    "### Only Location has some null values but that column is not important so we won't drop the whole row because of Location null"
   ]
  },
  {
   "cell_type": "code",
   "execution_count": 4,
   "metadata": {
    "execution": {
     "iopub.execute_input": "2021-07-18T08:27:13.838714Z",
     "iopub.status.busy": "2021-07-18T08:27:13.838385Z",
     "iopub.status.idle": "2021-07-18T08:27:13.852388Z",
     "shell.execute_reply": "2021-07-18T08:27:13.85129Z",
     "shell.execute_reply.started": "2021-07-18T08:27:13.838684Z"
    }
   },
   "outputs": [
    {
     "data": {
      "text/html": [
       "<div>\n",
       "<style scoped>\n",
       "    .dataframe tbody tr th:only-of-type {\n",
       "        vertical-align: middle;\n",
       "    }\n",
       "\n",
       "    .dataframe tbody tr th {\n",
       "        vertical-align: top;\n",
       "    }\n",
       "\n",
       "    .dataframe thead th {\n",
       "        text-align: right;\n",
       "    }\n",
       "</style>\n",
       "<table border=\"1\" class=\"dataframe\">\n",
       "  <thead>\n",
       "    <tr style=\"text-align: right;\">\n",
       "      <th></th>\n",
       "      <th>UserName</th>\n",
       "      <th>ScreenName</th>\n",
       "      <th>Location</th>\n",
       "      <th>TweetAt</th>\n",
       "      <th>OriginalTweet</th>\n",
       "      <th>Sentiment</th>\n",
       "    </tr>\n",
       "  </thead>\n",
       "  <tbody>\n",
       "    <tr>\n",
       "      <th>0</th>\n",
       "      <td>1</td>\n",
       "      <td>44953</td>\n",
       "      <td>NYC</td>\n",
       "      <td>02-03-2020</td>\n",
       "      <td>TRENDING: New Yorkers encounter empty supermar...</td>\n",
       "      <td>Extremely Negative</td>\n",
       "    </tr>\n",
       "    <tr>\n",
       "      <th>1</th>\n",
       "      <td>2</td>\n",
       "      <td>44954</td>\n",
       "      <td>Seattle, WA</td>\n",
       "      <td>02-03-2020</td>\n",
       "      <td>When I couldn't find hand sanitizer at Fred Me...</td>\n",
       "      <td>Positive</td>\n",
       "    </tr>\n",
       "    <tr>\n",
       "      <th>2</th>\n",
       "      <td>3</td>\n",
       "      <td>44955</td>\n",
       "      <td>NaN</td>\n",
       "      <td>02-03-2020</td>\n",
       "      <td>Find out how you can protect yourself and love...</td>\n",
       "      <td>Extremely Positive</td>\n",
       "    </tr>\n",
       "    <tr>\n",
       "      <th>3</th>\n",
       "      <td>4</td>\n",
       "      <td>44956</td>\n",
       "      <td>Chicagoland</td>\n",
       "      <td>02-03-2020</td>\n",
       "      <td>#Panic buying hits #NewYork City as anxious sh...</td>\n",
       "      <td>Negative</td>\n",
       "    </tr>\n",
       "    <tr>\n",
       "      <th>4</th>\n",
       "      <td>5</td>\n",
       "      <td>44957</td>\n",
       "      <td>Melbourne, Victoria</td>\n",
       "      <td>03-03-2020</td>\n",
       "      <td>#toiletpaper #dunnypaper #coronavirus #coronav...</td>\n",
       "      <td>Neutral</td>\n",
       "    </tr>\n",
       "  </tbody>\n",
       "</table>\n",
       "</div>"
      ],
      "text/plain": [
       "   UserName  ScreenName             Location     TweetAt  \\\n",
       "0         1       44953                  NYC  02-03-2020   \n",
       "1         2       44954          Seattle, WA  02-03-2020   \n",
       "2         3       44955                  NaN  02-03-2020   \n",
       "3         4       44956          Chicagoland  02-03-2020   \n",
       "4         5       44957  Melbourne, Victoria  03-03-2020   \n",
       "\n",
       "                                       OriginalTweet           Sentiment  \n",
       "0  TRENDING: New Yorkers encounter empty supermar...  Extremely Negative  \n",
       "1  When I couldn't find hand sanitizer at Fred Me...            Positive  \n",
       "2  Find out how you can protect yourself and love...  Extremely Positive  \n",
       "3  #Panic buying hits #NewYork City as anxious sh...            Negative  \n",
       "4  #toiletpaper #dunnypaper #coronavirus #coronav...             Neutral  "
      ]
     },
     "execution_count": 4,
     "metadata": {},
     "output_type": "execute_result"
    }
   ],
   "source": [
    "test.head()"
   ]
  },
  {
   "cell_type": "code",
   "execution_count": 5,
   "metadata": {
    "execution": {
     "iopub.execute_input": "2021-07-18T08:27:13.854043Z",
     "iopub.status.busy": "2021-07-18T08:27:13.853756Z",
     "iopub.status.idle": "2021-07-18T08:27:13.872833Z",
     "shell.execute_reply": "2021-07-18T08:27:13.871555Z",
     "shell.execute_reply.started": "2021-07-18T08:27:13.854009Z"
    }
   },
   "outputs": [
    {
     "data": {
      "text/plain": [
       "UserName         False\n",
       "ScreenName       False\n",
       "Location          True\n",
       "TweetAt          False\n",
       "OriginalTweet    False\n",
       "Sentiment        False\n",
       "dtype: bool"
      ]
     },
     "execution_count": 5,
     "metadata": {},
     "output_type": "execute_result"
    }
   ],
   "source": [
    "test.isnull().any()"
   ]
  },
  {
   "cell_type": "code",
   "execution_count": 6,
   "metadata": {
    "execution": {
     "iopub.execute_input": "2021-07-18T08:27:13.8749Z",
     "iopub.status.busy": "2021-07-18T08:27:13.874415Z",
     "iopub.status.idle": "2021-07-18T08:27:13.882759Z",
     "shell.execute_reply": "2021-07-18T08:27:13.881698Z",
     "shell.execute_reply.started": "2021-07-18T08:27:13.87485Z"
    }
   },
   "outputs": [
    {
     "data": {
      "text/plain": [
       "(41157, 6)"
      ]
     },
     "execution_count": 6,
     "metadata": {},
     "output_type": "execute_result"
    }
   ],
   "source": [
    "train.shape"
   ]
  },
  {
   "cell_type": "code",
   "execution_count": 7,
   "metadata": {
    "execution": {
     "iopub.execute_input": "2021-07-18T08:27:13.884266Z",
     "iopub.status.busy": "2021-07-18T08:27:13.88397Z",
     "iopub.status.idle": "2021-07-18T08:27:13.89981Z",
     "shell.execute_reply": "2021-07-18T08:27:13.898697Z",
     "shell.execute_reply.started": "2021-07-18T08:27:13.884236Z"
    }
   },
   "outputs": [
    {
     "data": {
      "text/plain": [
       "(3798, 6)"
      ]
     },
     "execution_count": 7,
     "metadata": {},
     "output_type": "execute_result"
    }
   ],
   "source": [
    "test.shape"
   ]
  },
  {
   "cell_type": "markdown",
   "metadata": {},
   "source": [
    "## EDA"
   ]
  },
  {
   "cell_type": "code",
   "execution_count": 8,
   "metadata": {
    "execution": {
     "iopub.execute_input": "2021-07-18T08:27:13.904012Z",
     "iopub.status.busy": "2021-07-18T08:27:13.903523Z",
     "iopub.status.idle": "2021-07-18T08:27:14.193012Z",
     "shell.execute_reply": "2021-07-18T08:27:14.191811Z",
     "shell.execute_reply.started": "2021-07-18T08:27:13.903962Z"
    }
   },
   "outputs": [
    {
     "name": "stderr",
     "output_type": "stream",
     "text": [
      "C:\\Users\\EraiYamuthan\\anaconda3\\lib\\site-packages\\seaborn\\_decorators.py:36: FutureWarning: Pass the following variable as a keyword arg: x. From version 0.12, the only valid positional argument will be `data`, and passing other arguments without an explicit keyword will result in an error or misinterpretation.\n",
      "  warnings.warn(\n"
     ]
    },
    {
     "data": {
      "text/plain": [
       "<AxesSubplot:xlabel='Sentiment', ylabel='count'>"
      ]
     },
     "execution_count": 8,
     "metadata": {},
     "output_type": "execute_result"
    },
    {
     "data": {
      "image/png": "[encoded data removed]",
      "text/plain": [
       "<Figure size 792x288 with 1 Axes>"
      ]
     },
     "metadata": {},
     "output_type": "display_data"
    }
   ],
   "source": [
    "sns.set_style(\"whitegrid\")\n",
    "sns.set(rc={'figure.figsize':(11,4)})\n",
    "sns.countplot(train['Sentiment'])"
   ]
  },
  {
   "cell_type": "markdown",
   "metadata": {},
   "source": [
    "### Changing the sentiment to 3 classes only"
   ]
  },
  {
   "cell_type": "code",
   "execution_count": 9,
   "metadata": {
    "execution": {
     "iopub.execute_input": "2021-07-18T08:27:14.196039Z",
     "iopub.status.busy": "2021-07-18T08:27:14.195506Z",
     "iopub.status.idle": "2021-07-18T08:27:14.202643Z",
     "shell.execute_reply": "2021-07-18T08:27:14.201457Z",
     "shell.execute_reply.started": "2021-07-18T08:27:14.195991Z"
    }
   },
   "outputs": [],
   "source": [
    "def change_sen(sentiment):\n",
    "    if sentiment == \"Extremely Positive\":\n",
    "        return 'positive'\n",
    "    elif sentiment == \"Extremely Negative\":\n",
    "        return 'negative'\n",
    "    elif sentiment == \"Positive\":\n",
    "        return 'positive'\n",
    "    elif sentiment == \"Negative\":\n",
    "        return 'negative'\n",
    "    else:\n",
    "        return 'netural'"
   ]
  },
  {
   "cell_type": "code",
   "execution_count": 10,
   "metadata": {
    "execution": {
     "iopub.execute_input": "2021-07-18T08:27:14.204827Z",
     "iopub.status.busy": "2021-07-18T08:27:14.204376Z",
     "iopub.status.idle": "2021-07-18T08:27:14.236682Z",
     "shell.execute_reply": "2021-07-18T08:27:14.23589Z",
     "shell.execute_reply.started": "2021-07-18T08:27:14.204782Z"
    }
   },
   "outputs": [],
   "source": [
    "train['Sentiment']=train['Sentiment'].apply(lambda x:change_sen(x))\n",
    "test['Sentiment']=test['Sentiment'].apply(lambda x:change_sen(x))"
   ]
  },
  {
   "cell_type": "code",
   "execution_count": 11,
   "metadata": {
    "execution": {
     "iopub.execute_input": "2021-07-18T08:27:14.238454Z",
     "iopub.status.busy": "2021-07-18T08:27:14.237943Z",
     "iopub.status.idle": "2021-07-18T08:27:14.251336Z",
     "shell.execute_reply": "2021-07-18T08:27:14.250267Z",
     "shell.execute_reply.started": "2021-07-18T08:27:14.238403Z"
    }
   },
   "outputs": [
    {
     "data": {
      "text/html": [
       "<div>\n",
       "<style scoped>\n",
       "    .dataframe tbody tr th:only-of-type {\n",
       "        vertical-align: middle;\n",
       "    }\n",
       "\n",
       "    .dataframe tbody tr th {\n",
       "        vertical-align: top;\n",
       "    }\n",
       "\n",
       "    .dataframe thead th {\n",
       "        text-align: right;\n",
       "    }\n",
       "</style>\n",
       "<table border=\"1\" class=\"dataframe\">\n",
       "  <thead>\n",
       "    <tr style=\"text-align: right;\">\n",
       "      <th></th>\n",
       "      <th>UserName</th>\n",
       "      <th>ScreenName</th>\n",
       "      <th>Location</th>\n",
       "      <th>TweetAt</th>\n",
       "      <th>OriginalTweet</th>\n",
       "      <th>Sentiment</th>\n",
       "    </tr>\n",
       "  </thead>\n",
       "  <tbody>\n",
       "    <tr>\n",
       "      <th>0</th>\n",
       "      <td>3799</td>\n",
       "      <td>48751</td>\n",
       "      <td>London</td>\n",
       "      <td>16-03-2020</td>\n",
       "      <td>@MeNyrbie @Phil_Gahan @Chrisitv https://t.co/i...</td>\n",
       "      <td>netural</td>\n",
       "    </tr>\n",
       "    <tr>\n",
       "      <th>1</th>\n",
       "      <td>3800</td>\n",
       "      <td>48752</td>\n",
       "      <td>UK</td>\n",
       "      <td>16-03-2020</td>\n",
       "      <td>advice Talk to your neighbours family to excha...</td>\n",
       "      <td>positive</td>\n",
       "    </tr>\n",
       "    <tr>\n",
       "      <th>2</th>\n",
       "      <td>3801</td>\n",
       "      <td>48753</td>\n",
       "      <td>Vagabonds</td>\n",
       "      <td>16-03-2020</td>\n",
       "      <td>Coronavirus Australia: Woolworths to give elde...</td>\n",
       "      <td>positive</td>\n",
       "    </tr>\n",
       "    <tr>\n",
       "      <th>3</th>\n",
       "      <td>3802</td>\n",
       "      <td>48754</td>\n",
       "      <td>NaN</td>\n",
       "      <td>16-03-2020</td>\n",
       "      <td>My food stock is not the only one which is emp...</td>\n",
       "      <td>positive</td>\n",
       "    </tr>\n",
       "    <tr>\n",
       "      <th>4</th>\n",
       "      <td>3803</td>\n",
       "      <td>48755</td>\n",
       "      <td>NaN</td>\n",
       "      <td>16-03-2020</td>\n",
       "      <td>Me, ready to go at supermarket during the #COV...</td>\n",
       "      <td>negative</td>\n",
       "    </tr>\n",
       "  </tbody>\n",
       "</table>\n",
       "</div>"
      ],
      "text/plain": [
       "   UserName  ScreenName   Location     TweetAt  \\\n",
       "0      3799       48751     London  16-03-2020   \n",
       "1      3800       48752         UK  16-03-2020   \n",
       "2      3801       48753  Vagabonds  16-03-2020   \n",
       "3      3802       48754        NaN  16-03-2020   \n",
       "4      3803       48755        NaN  16-03-2020   \n",
       "\n",
       "                                       OriginalTweet Sentiment  \n",
       "0  @MeNyrbie @Phil_Gahan @Chrisitv https://t.co/i...   netural  \n",
       "1  advice Talk to your neighbours family to excha...  positive  \n",
       "2  Coronavirus Australia: Woolworths to give elde...  positive  \n",
       "3  My food stock is not the only one which is emp...  positive  \n",
       "4  Me, ready to go at supermarket during the #COV...  negative  "
      ]
     },
     "execution_count": 11,
     "metadata": {},
     "output_type": "execute_result"
    }
   ],
   "source": [
    "train.head()"
   ]
  },
  {
   "cell_type": "code",
   "execution_count": 12,
   "metadata": {
    "execution": {
     "iopub.execute_input": "2021-07-18T08:27:14.253472Z",
     "iopub.status.busy": "2021-07-18T08:27:14.253119Z",
     "iopub.status.idle": "2021-07-18T08:27:14.26818Z",
     "shell.execute_reply": "2021-07-18T08:27:14.267015Z",
     "shell.execute_reply.started": "2021-07-18T08:27:14.253441Z"
    }
   },
   "outputs": [],
   "source": [
    "from nltk.corpus import stopwords\n",
    "# load stop words\n",
    "stop_word = stopwords.words('english')"
   ]
  },
  {
   "cell_type": "code",
   "execution_count": 13,
   "metadata": {
    "execution": {
     "iopub.execute_input": "2021-07-18T08:27:14.270891Z",
     "iopub.status.busy": "2021-07-18T08:27:14.270461Z",
     "iopub.status.idle": "2021-07-18T08:27:14.278622Z",
     "shell.execute_reply": "2021-07-18T08:27:14.277505Z",
     "shell.execute_reply.started": "2021-07-18T08:27:14.270856Z"
    }
   },
   "outputs": [],
   "source": [
    "#Cleaning the tweet\n",
    "\n",
    "def clean(text):\n",
    "    #     remove urls\n",
    "    text = re.sub(r'http\\S+', \" \", text)\n",
    "    #     remove mentions\n",
    "    text = re.sub(r'@\\w+',' ',text)\n",
    "    #     remove hastags\n",
    "    text = re.sub(r'#\\w+', ' ', text)\n",
    "    #     remove digits\n",
    "    text = re.sub(r'\\d+', ' ', text)\n",
    "    #     remove html tags\n",
    "    text = re.sub('r<.*?>',' ', text) \n",
    "    #     remove stop words \n",
    "    text = text.split()\n",
    "    text = \" \".join([word for word in text if not word in stop_word])\n",
    "        \n",
    "    return text"
   ]
  },
  {
   "cell_type": "code",
   "execution_count": 14,
   "metadata": {
    "execution": {
     "iopub.execute_input": "2021-07-18T08:27:14.281287Z",
     "iopub.status.busy": "2021-07-18T08:27:14.280463Z",
     "iopub.status.idle": "2021-07-18T08:27:17.900304Z",
     "shell.execute_reply": "2021-07-18T08:27:17.899471Z",
     "shell.execute_reply.started": "2021-07-18T08:27:14.281236Z"
    }
   },
   "outputs": [],
   "source": [
    "train['OriginalTweet'] = train['OriginalTweet'].apply(lambda x: clean(x))\n",
    "test['OriginalTweet'] = test['OriginalTweet'].apply(lambda x: clean(x))"
   ]
  },
  {
   "cell_type": "markdown",
   "metadata": {},
   "source": [
    "### We only need Original Tweet and Sentiment column"
   ]
  },
  {
   "cell_type": "code",
   "execution_count": 15,
   "metadata": {
    "execution": {
     "iopub.execute_input": "2021-07-18T08:27:17.902245Z",
     "iopub.status.busy": "2021-07-18T08:27:17.901609Z",
     "iopub.status.idle": "2021-07-18T08:27:17.910767Z",
     "shell.execute_reply": "2021-07-18T08:27:17.909424Z",
     "shell.execute_reply.started": "2021-07-18T08:27:17.902197Z"
    }
   },
   "outputs": [],
   "source": [
    "train = train.iloc[:,4:]\n",
    "test = test.iloc[:,4:]"
   ]
  },
  {
   "cell_type": "code",
   "execution_count": 16,
   "metadata": {
    "execution": {
     "iopub.execute_input": "2021-07-18T08:27:17.912722Z",
     "iopub.status.busy": "2021-07-18T08:27:17.912266Z",
     "iopub.status.idle": "2021-07-18T08:27:17.931099Z",
     "shell.execute_reply": "2021-07-18T08:27:17.930267Z",
     "shell.execute_reply.started": "2021-07-18T08:27:17.912675Z"
    }
   },
   "outputs": [
    {
     "data": {
      "text/html": [
       "<div>\n",
       "<style scoped>\n",
       "    .dataframe tbody tr th:only-of-type {\n",
       "        vertical-align: middle;\n",
       "    }\n",
       "\n",
       "    .dataframe tbody tr th {\n",
       "        vertical-align: top;\n",
       "    }\n",
       "\n",
       "    .dataframe thead th {\n",
       "        text-align: right;\n",
       "    }\n",
       "</style>\n",
       "<table border=\"1\" class=\"dataframe\">\n",
       "  <thead>\n",
       "    <tr style=\"text-align: right;\">\n",
       "      <th></th>\n",
       "      <th>OriginalTweet</th>\n",
       "      <th>Sentiment</th>\n",
       "    </tr>\n",
       "  </thead>\n",
       "  <tbody>\n",
       "    <tr>\n",
       "      <th>0</th>\n",
       "      <td></td>\n",
       "      <td>netural</td>\n",
       "    </tr>\n",
       "    <tr>\n",
       "      <th>1</th>\n",
       "      <td>advice Talk neighbours family exchange phone n...</td>\n",
       "      <td>positive</td>\n",
       "    </tr>\n",
       "    <tr>\n",
       "      <th>2</th>\n",
       "      <td>Coronavirus Australia: Woolworths give elderly...</td>\n",
       "      <td>positive</td>\n",
       "    </tr>\n",
       "    <tr>\n",
       "      <th>3</th>\n",
       "      <td>My food stock one empty... PLEASE, panic, THER...</td>\n",
       "      <td>positive</td>\n",
       "    </tr>\n",
       "    <tr>\n",
       "      <th>4</th>\n",
       "      <td>Me, ready go supermarket outbreak. Not I'm par...</td>\n",
       "      <td>negative</td>\n",
       "    </tr>\n",
       "  </tbody>\n",
       "</table>\n",
       "</div>"
      ],
      "text/plain": [
       "                                       OriginalTweet Sentiment\n",
       "0                                                      netural\n",
       "1  advice Talk neighbours family exchange phone n...  positive\n",
       "2  Coronavirus Australia: Woolworths give elderly...  positive\n",
       "3  My food stock one empty... PLEASE, panic, THER...  positive\n",
       "4  Me, ready go supermarket outbreak. Not I'm par...  negative"
      ]
     },
     "execution_count": 16,
     "metadata": {},
     "output_type": "execute_result"
    }
   ],
   "source": [
    "train.head()"
   ]
  },
  {
   "cell_type": "code",
   "execution_count": 17,
   "metadata": {
    "execution": {
     "iopub.execute_input": "2021-07-18T08:27:17.932769Z",
     "iopub.status.busy": "2021-07-18T08:27:17.932287Z",
     "iopub.status.idle": "2021-07-18T08:27:17.953123Z",
     "shell.execute_reply": "2021-07-18T08:27:17.952007Z",
     "shell.execute_reply.started": "2021-07-18T08:27:17.93272Z"
    }
   },
   "outputs": [
    {
     "data": {
      "text/html": [
       "<div>\n",
       "<style scoped>\n",
       "    .dataframe tbody tr th:only-of-type {\n",
       "        vertical-align: middle;\n",
       "    }\n",
       "\n",
       "    .dataframe tbody tr th {\n",
       "        vertical-align: top;\n",
       "    }\n",
       "\n",
       "    .dataframe thead th {\n",
       "        text-align: right;\n",
       "    }\n",
       "</style>\n",
       "<table border=\"1\" class=\"dataframe\">\n",
       "  <thead>\n",
       "    <tr style=\"text-align: right;\">\n",
       "      <th></th>\n",
       "      <th>OriginalTweet</th>\n",
       "      <th>Sentiment</th>\n",
       "    </tr>\n",
       "  </thead>\n",
       "  <tbody>\n",
       "    <tr>\n",
       "      <th>0</th>\n",
       "      <td>TRENDING: New Yorkers encounter empty supermar...</td>\n",
       "      <td>negative</td>\n",
       "    </tr>\n",
       "    <tr>\n",
       "      <th>1</th>\n",
       "      <td>When I find hand sanitizer Fred Meyer, I turne...</td>\n",
       "      <td>positive</td>\n",
       "    </tr>\n",
       "    <tr>\n",
       "      <th>2</th>\n",
       "      <td>Find protect loved ones . ?</td>\n",
       "      <td>positive</td>\n",
       "    </tr>\n",
       "    <tr>\n",
       "      <th>3</th>\n",
       "      <td>buying hits City anxious shoppers stock food&amp;a...</td>\n",
       "      <td>negative</td>\n",
       "    </tr>\n",
       "    <tr>\n",
       "      <th>4</th>\n",
       "      <td>One week everyone buying baby milk powder next...</td>\n",
       "      <td>netural</td>\n",
       "    </tr>\n",
       "  </tbody>\n",
       "</table>\n",
       "</div>"
      ],
      "text/plain": [
       "                                       OriginalTweet Sentiment\n",
       "0  TRENDING: New Yorkers encounter empty supermar...  negative\n",
       "1  When I find hand sanitizer Fred Meyer, I turne...  positive\n",
       "2                        Find protect loved ones . ?  positive\n",
       "3  buying hits City anxious shoppers stock food&a...  negative\n",
       "4  One week everyone buying baby milk powder next...   netural"
      ]
     },
     "execution_count": 17,
     "metadata": {},
     "output_type": "execute_result"
    }
   ],
   "source": [
    "test.head()"
   ]
  },
  {
   "cell_type": "code",
   "execution_count": 18,
   "metadata": {
    "execution": {
     "iopub.execute_input": "2021-07-18T08:27:17.955516Z",
     "iopub.status.busy": "2021-07-18T08:27:17.954975Z",
     "iopub.status.idle": "2021-07-18T08:27:17.984378Z",
     "shell.execute_reply": "2021-07-18T08:27:17.983166Z",
     "shell.execute_reply.started": "2021-07-18T08:27:17.955461Z"
    }
   },
   "outputs": [
    {
     "data": {
      "text/plain": [
       "array([1, 2, 0])"
      ]
     },
     "execution_count": 18,
     "metadata": {},
     "output_type": "execute_result"
    }
   ],
   "source": [
    "label_encoder = preprocessing.LabelEncoder()\n",
    "  \n",
    "# Encode labels in column 'Sentiment'.\n",
    "train['Sentiment']= label_encoder.fit_transform(train['Sentiment'])\n",
    "  \n",
    "train['Sentiment'].unique()"
   ]
  },
  {
   "cell_type": "code",
   "execution_count": 19,
   "metadata": {
    "execution": {
     "iopub.execute_input": "2021-07-18T08:27:17.986042Z",
     "iopub.status.busy": "2021-07-18T08:27:17.985756Z",
     "iopub.status.idle": "2021-07-18T08:27:17.996337Z",
     "shell.execute_reply": "2021-07-18T08:27:17.995307Z",
     "shell.execute_reply.started": "2021-07-18T08:27:17.986014Z"
    }
   },
   "outputs": [
    {
     "data": {
      "text/html": [
       "<div>\n",
       "<style scoped>\n",
       "    .dataframe tbody tr th:only-of-type {\n",
       "        vertical-align: middle;\n",
       "    }\n",
       "\n",
       "    .dataframe tbody tr th {\n",
       "        vertical-align: top;\n",
       "    }\n",
       "\n",
       "    .dataframe thead th {\n",
       "        text-align: right;\n",
       "    }\n",
       "</style>\n",
       "<table border=\"1\" class=\"dataframe\">\n",
       "  <thead>\n",
       "    <tr style=\"text-align: right;\">\n",
       "      <th></th>\n",
       "      <th>OriginalTweet</th>\n",
       "      <th>Sentiment</th>\n",
       "    </tr>\n",
       "  </thead>\n",
       "  <tbody>\n",
       "    <tr>\n",
       "      <th>0</th>\n",
       "      <td></td>\n",
       "      <td>1</td>\n",
       "    </tr>\n",
       "    <tr>\n",
       "      <th>1</th>\n",
       "      <td>advice Talk neighbours family exchange phone n...</td>\n",
       "      <td>2</td>\n",
       "    </tr>\n",
       "    <tr>\n",
       "      <th>2</th>\n",
       "      <td>Coronavirus Australia: Woolworths give elderly...</td>\n",
       "      <td>2</td>\n",
       "    </tr>\n",
       "    <tr>\n",
       "      <th>3</th>\n",
       "      <td>My food stock one empty... PLEASE, panic, THER...</td>\n",
       "      <td>2</td>\n",
       "    </tr>\n",
       "    <tr>\n",
       "      <th>4</th>\n",
       "      <td>Me, ready go supermarket outbreak. Not I'm par...</td>\n",
       "      <td>0</td>\n",
       "    </tr>\n",
       "  </tbody>\n",
       "</table>\n",
       "</div>"
      ],
      "text/plain": [
       "                                       OriginalTweet  Sentiment\n",
       "0                                                             1\n",
       "1  advice Talk neighbours family exchange phone n...          2\n",
       "2  Coronavirus Australia: Woolworths give elderly...          2\n",
       "3  My food stock one empty... PLEASE, panic, THER...          2\n",
       "4  Me, ready go supermarket outbreak. Not I'm par...          0"
      ]
     },
     "execution_count": 19,
     "metadata": {},
     "output_type": "execute_result"
    }
   ],
   "source": [
    "train.head()"
   ]
  },
  {
   "cell_type": "markdown",
   "metadata": {},
   "source": [
    "## Negative 0\n",
    "## Neutral 1\n",
    "## Positive 2"
   ]
  },
  {
   "cell_type": "code",
   "execution_count": 20,
   "metadata": {
    "execution": {
     "iopub.execute_input": "2021-07-18T08:27:17.998628Z",
     "iopub.status.busy": "2021-07-18T08:27:17.998038Z",
     "iopub.status.idle": "2021-07-18T08:27:18.018095Z",
     "shell.execute_reply": "2021-07-18T08:27:18.016996Z",
     "shell.execute_reply.started": "2021-07-18T08:27:17.99858Z"
    }
   },
   "outputs": [],
   "source": [
    "train_text,val_text,train_label,val_label=train_test_split(train.OriginalTweet,train.Sentiment,\n",
    "                                                             test_size=0.3,random_state=42)"
   ]
  },
  {
   "cell_type": "markdown",
   "metadata": {},
   "source": [
    "## Lemmatization\n",
    "#### In lemmatization, we try to reduce a given word to its root word."
   ]
  },
  {
   "cell_type": "code",
   "execution_count": 21,
   "metadata": {
    "execution": {
     "iopub.execute_input": "2021-07-18T08:27:18.020032Z",
     "iopub.status.busy": "2021-07-18T08:27:18.019642Z",
     "iopub.status.idle": "2021-07-18T08:27:18.027863Z",
     "shell.execute_reply": "2021-07-18T08:27:18.02681Z",
     "shell.execute_reply.started": "2021-07-18T08:27:18.019995Z"
    }
   },
   "outputs": [],
   "source": [
    "class Lemmatizer(object):\n",
    "    def __init__(self):\n",
    "        self.lemmatizer = WordNetLemmatizer()\n",
    "    def __call__(self, sentence):\n",
    "        sentence=re.sub('(https?:\\/\\/)?([\\da-z\\.-]+)\\.([a-z\\.]{2,6})([\\/\\w \\.-]*)',' ',sentence)\n",
    "        sentence=re.sub('[^0-9a-z]',' ',sentence)\n",
    "        return [self.lemmatizer.lemmatize(word) for word in sentence.split() if len(word)>1]"
   ]
  },
  {
   "cell_type": "code",
   "execution_count": 22,
   "metadata": {
    "execution": {
     "iopub.execute_input": "2021-07-18T08:27:18.030007Z",
     "iopub.status.busy": "2021-07-18T08:27:18.029367Z",
     "iopub.status.idle": "2021-07-18T08:27:18.050917Z",
     "shell.execute_reply": "2021-07-18T08:27:18.049817Z",
     "shell.execute_reply.started": "2021-07-18T08:27:18.029962Z"
    }
   },
   "outputs": [],
   "source": [
    "tokenizer=CountVectorizer(max_features=5000,stop_words='english',lowercase=True,tokenizer=Lemmatizer())"
   ]
  },
  {
   "cell_type": "code",
   "execution_count": 23,
   "metadata": {
    "execution": {
     "iopub.execute_input": "2021-07-18T08:27:18.055073Z",
     "iopub.status.busy": "2021-07-18T08:27:18.054496Z",
     "iopub.status.idle": "2021-07-18T08:27:26.020303Z",
     "shell.execute_reply": "2021-07-18T08:27:26.019233Z",
     "shell.execute_reply.started": "2021-07-18T08:27:18.055034Z"
    }
   },
   "outputs": [
    {
     "name": "stderr",
     "output_type": "stream",
     "text": [
      "C:\\Users\\EraiYamuthan\\anaconda3\\lib\\site-packages\\sklearn\\feature_extraction\\text.py:383: UserWarning: Your stop_words may be inconsistent with your preprocessing. Tokenizing the stop words generated tokens ['ha', 'le', 'u', 'wa'] not in stop_words.\n",
      "  warnings.warn('Your stop_words may be inconsistent with '\n"
     ]
    }
   ],
   "source": [
    "train_x=tokenizer.fit_transform(train_text).toarray()"
   ]
  },
  {
   "cell_type": "code",
   "execution_count": 24,
   "metadata": {
    "execution": {
     "iopub.execute_input": "2021-07-18T08:27:26.022371Z",
     "iopub.status.busy": "2021-07-18T08:27:26.022069Z",
     "iopub.status.idle": "2021-07-18T08:27:26.029902Z",
     "shell.execute_reply": "2021-07-18T08:27:26.02872Z",
     "shell.execute_reply.started": "2021-07-18T08:27:26.022342Z"
    }
   },
   "outputs": [
    {
     "data": {
      "text/plain": [
       "{'analyzer': 'word',\n",
       " 'binary': False,\n",
       " 'decode_error': 'strict',\n",
       " 'dtype': numpy.int64,\n",
       " 'encoding': 'utf-8',\n",
       " 'input': 'content',\n",
       " 'lowercase': True,\n",
       " 'max_df': 1.0,\n",
       " 'max_features': 5000,\n",
       " 'min_df': 1,\n",
       " 'ngram_range': (1, 1),\n",
       " 'preprocessor': None,\n",
       " 'stop_words': 'english',\n",
       " 'strip_accents': None,\n",
       " 'token_pattern': '(?u)\\\\b\\\\w\\\\w+\\\\b',\n",
       " 'tokenizer': <__main__.Lemmatizer at 0x1bc2fc7d610>,\n",
       " 'vocabulary': None}"
      ]
     },
     "execution_count": 24,
     "metadata": {},
     "output_type": "execute_result"
    }
   ],
   "source": [
    "tokenizer.get_params()"
   ]
  },
  {
   "cell_type": "code",
   "execution_count": 25,
   "metadata": {
    "execution": {
     "iopub.execute_input": "2021-07-18T08:27:26.031703Z",
     "iopub.status.busy": "2021-07-18T08:27:26.031364Z",
     "iopub.status.idle": "2021-07-18T08:27:26.04627Z",
     "shell.execute_reply": "2021-07-18T08:27:26.045404Z",
     "shell.execute_reply.started": "2021-07-18T08:27:26.031672Z"
    }
   },
   "outputs": [],
   "source": [
    "feature_names=tokenizer.get_feature_names()"
   ]
  },
  {
   "cell_type": "code",
   "execution_count": 26,
   "metadata": {
    "execution": {
     "iopub.execute_input": "2021-07-18T08:27:26.048222Z",
     "iopub.status.busy": "2021-07-18T08:27:26.047569Z",
     "iopub.status.idle": "2021-07-18T08:27:28.498913Z",
     "shell.execute_reply": "2021-07-18T08:27:28.497718Z",
     "shell.execute_reply.started": "2021-07-18T08:27:26.048175Z"
    }
   },
   "outputs": [],
   "source": [
    "val_x=tokenizer.transform(val_text).toarray()"
   ]
  },
  {
   "cell_type": "code",
   "execution_count": 27,
   "metadata": {
    "execution": {
     "iopub.execute_input": "2021-07-18T08:27:29.367643Z",
     "iopub.status.busy": "2021-07-18T08:27:29.367279Z",
     "iopub.status.idle": "2021-07-18T08:27:29.375202Z",
     "shell.execute_reply": "2021-07-18T08:27:29.374188Z",
     "shell.execute_reply.started": "2021-07-18T08:27:29.367608Z"
    }
   },
   "outputs": [],
   "source": [
    "test_x=test.OriginalTweet\n",
    "test_label=label_encoder.transform(test['Sentiment'])"
   ]
  },
  {
   "cell_type": "code",
   "execution_count": 28,
   "metadata": {
    "execution": {
     "iopub.execute_input": "2021-07-18T08:27:29.376796Z",
     "iopub.status.busy": "2021-07-18T08:27:29.376412Z",
     "iopub.status.idle": "2021-07-18T08:27:30.204115Z",
     "shell.execute_reply": "2021-07-18T08:27:30.202831Z",
     "shell.execute_reply.started": "2021-07-18T08:27:29.37676Z"
    }
   },
   "outputs": [],
   "source": [
    "test_x_1=tokenizer.transform(test_x).toarray()"
   ]
  },
  {
   "cell_type": "markdown",
   "metadata": {},
   "source": [
    "## LSTM"
   ]
  },
  {
   "cell_type": "code",
   "execution_count": 29,
   "metadata": {
    "execution": {
     "iopub.execute_input": "2021-07-18T08:28:04.09687Z",
     "iopub.status.busy": "2021-07-18T08:28:04.096397Z",
     "iopub.status.idle": "2021-07-18T08:28:04.102418Z",
     "shell.execute_reply": "2021-07-18T08:28:04.101082Z",
     "shell.execute_reply.started": "2021-07-18T08:28:04.096836Z"
    }
   },
   "outputs": [],
   "source": [
    "early_stop=EarlyStopping(monitor='val_accuracy',patience=3)\n",
    "reduceLR=ReduceLROnPlateau(monitor='val_accuarcy',patience=2)"
   ]
  },
  {
   "cell_type": "code",
   "execution_count": 30,
   "metadata": {
    "execution": {
     "iopub.execute_input": "2021-07-18T08:28:04.140225Z",
     "iopub.status.busy": "2021-07-18T08:28:04.13983Z",
     "iopub.status.idle": "2021-07-18T08:28:05.924577Z",
     "shell.execute_reply": "2021-07-18T08:28:05.923751Z",
     "shell.execute_reply.started": "2021-07-18T08:28:04.140186Z"
    }
   },
   "outputs": [],
   "source": [
    "token=Tokenizer(num_words=5000,oov_token=Lemmatizer())\n",
    "token.fit_on_texts(train_text)\n",
    "train_x_2=token.texts_to_sequences(train_text)\n",
    "train_x_2=pad_sequences(train_x_2,maxlen=60,padding='post',truncating='post')"
   ]
  },
  {
   "cell_type": "code",
   "execution_count": 31,
   "metadata": {
    "execution": {
     "iopub.execute_input": "2021-07-18T08:28:05.926207Z",
     "iopub.status.busy": "2021-07-18T08:28:05.925757Z",
     "iopub.status.idle": "2021-07-18T08:28:06.328072Z",
     "shell.execute_reply": "2021-07-18T08:28:06.327192Z",
     "shell.execute_reply.started": "2021-07-18T08:28:05.926172Z"
    }
   },
   "outputs": [],
   "source": [
    "val_x_2=token.texts_to_sequences(val_text)\n",
    "val_x_2=pad_sequences(val_x_2,maxlen=60,padding='post',truncating='post')"
   ]
  },
  {
   "cell_type": "code",
   "execution_count": 32,
   "metadata": {
    "execution": {
     "iopub.execute_input": "2021-07-18T08:28:06.3299Z",
     "iopub.status.busy": "2021-07-18T08:28:06.329468Z",
     "iopub.status.idle": "2021-07-18T08:28:06.779227Z",
     "shell.execute_reply": "2021-07-18T08:28:06.778059Z",
     "shell.execute_reply.started": "2021-07-18T08:28:06.32987Z"
    }
   },
   "outputs": [],
   "source": [
    "embedding_dimension=32\n",
    "v=len(token.word_index)\n",
    "model=Sequential()\n",
    "model.add(Input(shape=(60,)))\n",
    "model.add(Embedding(v+1,embedding_dimension))\n",
    "model.add(LSTM(64,return_sequences=True))\n",
    "model.add(GlobalMaxPool1D())\n",
    "model.add(Dense(64))\n",
    "model.add(Dense(3,activation='softmax'))"
   ]
  },
  {
   "cell_type": "code",
   "execution_count": 33,
   "metadata": {
    "execution": {
     "iopub.execute_input": "2021-07-18T08:28:06.780955Z",
     "iopub.status.busy": "2021-07-18T08:28:06.780626Z",
     "iopub.status.idle": "2021-07-18T08:30:43.549145Z",
     "shell.execute_reply": "2021-07-18T08:30:43.548109Z",
     "shell.execute_reply.started": "2021-07-18T08:28:06.780923Z"
    }
   },
   "outputs": [
    {
     "name": "stdout",
     "output_type": "stream",
     "text": [
      "Epoch 1/50\n",
      "451/451 [==============================] - 26s 52ms/step - loss: 0.8589 - accuracy: 0.5827 - val_loss: 0.4911 - val_accuracy: 0.8324\n",
      "WARNING:tensorflow:Learning rate reduction is conditioned on metric `val_accuarcy` which is not available. Available metrics are: loss,accuracy,val_loss,val_accuracy,lr\n",
      "Epoch 2/50\n",
      "451/451 [==============================] - 25s 55ms/step - loss: 0.4023 - accuracy: 0.8703 - val_loss: 0.4523 - val_accuracy: 0.8477\n",
      "WARNING:tensorflow:Learning rate reduction is conditioned on metric `val_accuarcy` which is not available. Available metrics are: loss,accuracy,val_loss,val_accuracy,lr\n",
      "Epoch 3/50\n",
      "451/451 [==============================] - 23s 50ms/step - loss: 0.3455 - accuracy: 0.8882 - val_loss: 0.4459 - val_accuracy: 0.8524\n",
      "WARNING:tensorflow:Learning rate reduction is conditioned on metric `val_accuarcy` which is not available. Available metrics are: loss,accuracy,val_loss,val_accuracy,lr\n",
      "Epoch 4/50\n",
      "451/451 [==============================] - 24s 53ms/step - loss: 0.3051 - accuracy: 0.9034 - val_loss: 0.4708 - val_accuracy: 0.8437\n",
      "WARNING:tensorflow:Learning rate reduction is conditioned on metric `val_accuarcy` which is not available. Available metrics are: loss,accuracy,val_loss,val_accuracy,lr\n",
      "Epoch 5/50\n",
      "451/451 [==============================] - 25s 55ms/step - loss: 0.2593 - accuracy: 0.9146 - val_loss: 0.4779 - val_accuracy: 0.8410\n",
      "WARNING:tensorflow:Learning rate reduction is conditioned on metric `val_accuarcy` which is not available. Available metrics are: loss,accuracy,val_loss,val_accuracy,lr\n",
      "Epoch 6/50\n",
      "451/451 [==============================] - 25s 55ms/step - loss: 0.2215 - accuracy: 0.9282 - val_loss: 0.5294 - val_accuracy: 0.8332\n",
      "WARNING:tensorflow:Learning rate reduction is conditioned on metric `val_accuarcy` which is not available. Available metrics are: loss,accuracy,val_loss,val_accuracy,lr\n"
     ]
    }
   ],
   "source": [
    "model.compile(optimizer='adam',loss='sparse_categorical_crossentropy',metrics=['accuracy'])\n",
    "r=model.fit(train_x_2,train_label,validation_data=(val_x_2,val_label),\n",
    "            epochs=50,batch_size=64,callbacks=[reduceLR,early_stop])"
   ]
  },
  {
   "cell_type": "code",
   "execution_count": 34,
   "metadata": {
    "execution": {
     "iopub.execute_input": "2021-07-18T08:30:43.551126Z",
     "iopub.status.busy": "2021-07-18T08:30:43.550809Z",
     "iopub.status.idle": "2021-07-18T08:30:43.773012Z",
     "shell.execute_reply": "2021-07-18T08:30:43.77195Z",
     "shell.execute_reply.started": "2021-07-18T08:30:43.551096Z"
    }
   },
   "outputs": [
    {
     "data": {
      "text/plain": [
       "[]"
      ]
     },
     "execution_count": 34,
     "metadata": {},
     "output_type": "execute_result"
    },
    {
     "data": {
      "image/png": "[encoded data removed]",
      "text/plain": [
       "<Figure size 792x288 with 1 Axes>"
      ]
     },
     "metadata": {},
     "output_type": "display_data"
    }
   ],
   "source": [
    "plt.plot(r.history['loss'])\n",
    "plt.plot(r.history['val_loss'])\n",
    "plt.title('LOSS',fontdict={'size':'22'})\n",
    "plt.plot()"
   ]
  },
  {
   "cell_type": "code",
   "execution_count": 35,
   "metadata": {
    "execution": {
     "iopub.execute_input": "2021-07-18T08:30:43.774562Z",
     "iopub.status.busy": "2021-07-18T08:30:43.774274Z",
     "iopub.status.idle": "2021-07-18T08:30:43.915785Z",
     "shell.execute_reply": "2021-07-18T08:30:43.914783Z",
     "shell.execute_reply.started": "2021-07-18T08:30:43.774534Z"
    }
   },
   "outputs": [],
   "source": [
    "test_x_2=token.texts_to_sequences(test['OriginalTweet'])\n",
    "test_x_2=pad_sequences(test_x_2,maxlen=60,padding='post',truncating='post')"
   ]
  },
  {
   "cell_type": "markdown",
   "metadata": {},
   "source": [
    "### Accuracy on Test set"
   ]
  },
  {
   "cell_type": "code",
   "execution_count": 36,
   "metadata": {
    "execution": {
     "iopub.execute_input": "2021-07-18T08:30:43.917347Z",
     "iopub.status.busy": "2021-07-18T08:30:43.917045Z",
     "iopub.status.idle": "2021-07-18T08:30:45.749677Z",
     "shell.execute_reply": "2021-07-18T08:30:45.748487Z",
     "shell.execute_reply.started": "2021-07-18T08:30:43.917318Z"
    }
   },
   "outputs": [
    {
     "name": "stderr",
     "output_type": "stream",
     "text": [
      "C:\\Users\\EraiYamuthan\\anaconda3\\lib\\site-packages\\tensorflow\\python\\keras\\engine\\sequential.py:450: UserWarning: `model.predict_classes()` is deprecated and will be removed after 2021-01-01. Please use instead:* `np.argmax(model.predict(x), axis=-1)`,   if your model does multi-class classification   (e.g. if it uses a `softmax` last-layer activation).* `(model.predict(x) > 0.5).astype(\"int32\")`,   if your model does binary classification   (e.g. if it uses a `sigmoid` last-layer activation).\n",
      "  warnings.warn('`model.predict_classes()` is deprecated and '\n"
     ]
    },
    {
     "name": "stdout",
     "output_type": "stream",
     "text": [
      "              precision    recall  f1-score   support\n",
      "\n",
      "           0       0.83      0.78      0.81      1633\n",
      "           1       0.79      0.70      0.74       619\n",
      "           2       0.79      0.88      0.83      1546\n",
      "\n",
      "    accuracy                           0.81      3798\n",
      "   macro avg       0.80      0.79      0.79      3798\n",
      "weighted avg       0.81      0.81      0.81      3798\n",
      "\n"
     ]
    }
   ],
   "source": [
    "print(classification_report(test_label,model.predict_classes(test_x_2)))"
   ]
  },
  {
   "cell_type": "markdown",
   "metadata": {},
   "source": [
    "## Bidirectional LSTM"
   ]
  },
  {
   "cell_type": "code",
   "execution_count": 37,
   "metadata": {
    "execution": {
     "iopub.execute_input": "2021-07-18T08:30:45.751697Z",
     "iopub.status.busy": "2021-07-18T08:30:45.751375Z",
     "iopub.status.idle": "2021-07-18T08:30:46.296983Z",
     "shell.execute_reply": "2021-07-18T08:30:46.295852Z",
     "shell.execute_reply.started": "2021-07-18T08:30:45.751654Z"
    }
   },
   "outputs": [],
   "source": [
    "from keras.layers import Bidirectional\n",
    "\n",
    "embedding_dimension=32\n",
    "v=len(token.word_index)\n",
    "modelnew=Sequential()\n",
    "modelnew.add(Input(shape=(60,)))\n",
    "modelnew.add(Embedding(v+1,embedding_dimension))\n",
    "modelnew.add(Bidirectional(LSTM(64,return_sequences=True)))\n",
    "modelnew.add(GlobalMaxPool1D())\n",
    "modelnew.add(Dense(64))\n",
    "modelnew.add(Dense(3,activation='softmax'))"
   ]
  },
  {
   "cell_type": "code",
   "execution_count": 38,
   "metadata": {
    "execution": {
     "iopub.execute_input": "2021-07-18T08:30:46.298604Z",
     "iopub.status.busy": "2021-07-18T08:30:46.298265Z",
     "iopub.status.idle": "2021-07-18T08:34:02.511646Z",
     "shell.execute_reply": "2021-07-18T08:34:02.510404Z",
     "shell.execute_reply.started": "2021-07-18T08:30:46.29852Z"
    }
   },
   "outputs": [
    {
     "name": "stdout",
     "output_type": "stream",
     "text": [
      "Epoch 1/50\n",
      "451/451 [==============================] - 38s 74ms/step - loss: 0.8537 - accuracy: 0.5848 - val_loss: 0.4752 - val_accuracy: 0.8418\n",
      "WARNING:tensorflow:Learning rate reduction is conditioned on metric `val_accuarcy` which is not available. Available metrics are: loss,accuracy,val_loss,val_accuracy,lr\n",
      "Epoch 2/50\n",
      "451/451 [==============================] - 30s 68ms/step - loss: 0.3912 - accuracy: 0.8763 - val_loss: 0.4313 - val_accuracy: 0.8535\n",
      "WARNING:tensorflow:Learning rate reduction is conditioned on metric `val_accuarcy` which is not available. Available metrics are: loss,accuracy,val_loss,val_accuracy,lr\n",
      "Epoch 3/50\n",
      "451/451 [==============================] - 32s 71ms/step - loss: 0.3226 - accuracy: 0.8968 - val_loss: 0.4373 - val_accuracy: 0.8554\n",
      "WARNING:tensorflow:Learning rate reduction is conditioned on metric `val_accuarcy` which is not available. Available metrics are: loss,accuracy,val_loss,val_accuracy,lr\n",
      "Epoch 4/50\n",
      "451/451 [==============================] - 36s 80ms/step - loss: 0.2835 - accuracy: 0.9068 - val_loss: 0.4553 - val_accuracy: 0.8490\n",
      "WARNING:tensorflow:Learning rate reduction is conditioned on metric `val_accuarcy` which is not available. Available metrics are: loss,accuracy,val_loss,val_accuracy,lr\n",
      "Epoch 5/50\n",
      "451/451 [==============================] - 33s 72ms/step - loss: 0.2234 - accuracy: 0.9228 - val_loss: 0.4938 - val_accuracy: 0.8412\n",
      "WARNING:tensorflow:Learning rate reduction is conditioned on metric `val_accuarcy` which is not available. Available metrics are: loss,accuracy,val_loss,val_accuracy,lr\n",
      "Epoch 6/50\n",
      "451/451 [==============================] - 44s 97ms/step - loss: 0.1780 - accuracy: 0.9433 - val_loss: 0.5695 - val_accuracy: 0.8273\n",
      "WARNING:tensorflow:Learning rate reduction is conditioned on metric `val_accuarcy` which is not available. Available metrics are: loss,accuracy,val_loss,val_accuracy,lr\n"
     ]
    }
   ],
   "source": [
    "modelnew.compile(optimizer='adam',loss='sparse_categorical_crossentropy',metrics=['accuracy'])\n",
    "r=modelnew.fit(train_x_2,train_label,validation_data=(val_x_2,val_label),\n",
    "            epochs=50,batch_size=64,callbacks=[reduceLR,early_stop])"
   ]
  }
 ],
 "metadata": {
  "kernelspec": {
   "display_name": "Python 3",
   "language": "python",
   "name": "python3"
  },
  "language_info": {
   "codemirror_mode": {
    "name": "ipython",
    "version": 3
   },
   "file_extension": ".py",
   "mimetype": "text/x-python",
   "name": "python",
   "nbconvert_exporter": "python",
   "pygments_lexer": "ipython3",
   "version": "3.8.5"
  }
 },
 "nbformat": 4,
 "nbformat_minor": 4
}
